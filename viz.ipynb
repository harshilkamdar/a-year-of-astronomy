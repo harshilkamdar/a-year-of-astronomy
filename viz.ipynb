{
 "cells": [
  {
   "cell_type": "code",
   "execution_count": 6,
   "metadata": {
    "collapsed": false
   },
   "outputs": [],
   "source": [
    "import time\n",
    "import urllib2\n",
    "import datetime\n",
    "from itertools import ifilter\n",
    "from collections import Counter, defaultdict\n",
    "import xml.etree.ElementTree as ET\n",
    "\n",
    "from bs4 import BeautifulSoup\n",
    "import matplotlib.pylab as plt\n",
    "import pandas as pd\n",
    "import numpy as np\n",
    "from pandas import HDFStore\n",
    "import ads\n",
    "from geopy.geocoders import Nominatim\n",
    "\n",
    "%matplotlib inline"
   ]
  },
  {
   "cell_type": "code",
   "execution_count": 83,
   "metadata": {
    "collapsed": false
   },
   "outputs": [
    {
     "name": "stdout",
     "output_type": "stream",
     "text": [
      "fetching http://export.arxiv.org/oai2?verb=ListRecords&from=2015-01-01&until=2015-12-31&metadataPrefix=arXiv&set=physics:astro-ph\n",
      "fetching http://export.arxiv.org/oai2?verb=ListRecords&resumptionToken=1043277|1001\n",
      "Got 503. Retrying after 30 seconds.\n",
      "fetching http://export.arxiv.org/oai2?verb=ListRecords&resumptionToken=1043277|1001\n",
      "fetching http://export.arxiv.org/oai2?verb=ListRecords&resumptionToken=1043277|2001\n",
      "Got 503. Retrying after 30 seconds.\n",
      "fetching http://export.arxiv.org/oai2?verb=ListRecords&resumptionToken=1043277|2001\n",
      "fetching http://export.arxiv.org/oai2?verb=ListRecords&resumptionToken=1043277|3001\n",
      "Got 503. Retrying after 30 seconds.\n",
      "fetching http://export.arxiv.org/oai2?verb=ListRecords&resumptionToken=1043277|3001\n",
      "fetching http://export.arxiv.org/oai2?verb=ListRecords&resumptionToken=1043277|4001\n",
      "Got 503. Retrying after 30 seconds.\n",
      "fetching http://export.arxiv.org/oai2?verb=ListRecords&resumptionToken=1043277|4001\n",
      "fetching http://export.arxiv.org/oai2?verb=ListRecords&resumptionToken=1043277|5001\n",
      "Got 503. Retrying after 30 seconds.\n",
      "fetching http://export.arxiv.org/oai2?verb=ListRecords&resumptionToken=1043277|5001\n",
      "fetching http://export.arxiv.org/oai2?verb=ListRecords&resumptionToken=1043277|6001\n",
      "Got 503. Retrying after 30 seconds.\n",
      "fetching http://export.arxiv.org/oai2?verb=ListRecords&resumptionToken=1043277|6001\n",
      "fetching http://export.arxiv.org/oai2?verb=ListRecords&resumptionToken=1043277|7001\n",
      "Got 503. Retrying after 30 seconds.\n",
      "fetching http://export.arxiv.org/oai2?verb=ListRecords&resumptionToken=1043277|7001\n",
      "fetching http://export.arxiv.org/oai2?verb=ListRecords&resumptionToken=1043277|8001\n",
      "Got 503. Retrying after 30 seconds.\n",
      "fetching http://export.arxiv.org/oai2?verb=ListRecords&resumptionToken=1043277|8001\n",
      "fetching http://export.arxiv.org/oai2?verb=ListRecords&resumptionToken=1043277|9001\n",
      "Got 503. Retrying after 30 seconds.\n",
      "fetching http://export.arxiv.org/oai2?verb=ListRecords&resumptionToken=1043277|9001\n",
      "fetching http://export.arxiv.org/oai2?verb=ListRecords&resumptionToken=1043277|10001\n",
      "Got 503. Retrying after 30 seconds.\n",
      "fetching http://export.arxiv.org/oai2?verb=ListRecords&resumptionToken=1043277|10001\n",
      "fetching http://export.arxiv.org/oai2?verb=ListRecords&resumptionToken=1043277|11001\n",
      "Got 503. Retrying after 30 seconds.\n",
      "fetching http://export.arxiv.org/oai2?verb=ListRecords&resumptionToken=1043277|11001\n",
      "fetching http://export.arxiv.org/oai2?verb=ListRecords&resumptionToken=1043277|12001\n",
      "Got 503. Retrying after 30 seconds.\n",
      "fetching http://export.arxiv.org/oai2?verb=ListRecords&resumptionToken=1043277|12001\n",
      "fetching http://export.arxiv.org/oai2?verb=ListRecords&resumptionToken=1043277|13001\n",
      "Got 503. Retrying after 30 seconds.\n",
      "fetching http://export.arxiv.org/oai2?verb=ListRecords&resumptionToken=1043277|13001\n",
      "fetching http://export.arxiv.org/oai2?verb=ListRecords&resumptionToken=1043277|14001\n",
      "Got 503. Retrying after 30 seconds.\n",
      "fetching http://export.arxiv.org/oai2?verb=ListRecords&resumptionToken=1043277|14001\n",
      "fetching http://export.arxiv.org/oai2?verb=ListRecords&resumptionToken=1043277|15001\n",
      "Got 503. Retrying after 30 seconds.\n",
      "fetching http://export.arxiv.org/oai2?verb=ListRecords&resumptionToken=1043277|15001\n",
      "fetching http://export.arxiv.org/oai2?verb=ListRecords&resumptionToken=1043277|16001\n",
      "Got 503. Retrying after 30 seconds.\n",
      "fetching http://export.arxiv.org/oai2?verb=ListRecords&resumptionToken=1043277|16001\n",
      "fetching http://export.arxiv.org/oai2?verb=ListRecords&resumptionToken=1043277|17001\n",
      "Got 503. Retrying after 30 seconds.\n",
      "fetching http://export.arxiv.org/oai2?verb=ListRecords&resumptionToken=1043277|17001\n",
      "fetching http://export.arxiv.org/oai2?verb=ListRecords&resumptionToken=1043277|18001\n",
      "Got 503. Retrying after 30 seconds.\n",
      "fetching http://export.arxiv.org/oai2?verb=ListRecords&resumptionToken=1043277|18001\n",
      "fetching http://export.arxiv.org/oai2?verb=ListRecords&resumptionToken=1043277|19001\n",
      "Got 503. Retrying after 30 seconds.\n",
      "fetching http://export.arxiv.org/oai2?verb=ListRecords&resumptionToken=1043277|19001\n",
      "fetching http://export.arxiv.org/oai2?verb=ListRecords&resumptionToken=1043277|20001\n",
      "Got 503. Retrying after 30 seconds.\n",
      "fetching http://export.arxiv.org/oai2?verb=ListRecords&resumptionToken=1043277|20001\n",
      "fetching http://export.arxiv.org/oai2?verb=ListRecords&resumptionToken=1043277|21001\n",
      "Got 503. Retrying after 30 seconds.\n",
      "fetching http://export.arxiv.org/oai2?verb=ListRecords&resumptionToken=1043277|21001\n",
      "fetching http://export.arxiv.org/oai2?verb=ListRecords&resumptionToken=1043277|22001\n",
      "Got 503. Retrying after 30 seconds.\n",
      "fetching http://export.arxiv.org/oai2?verb=ListRecords&resumptionToken=1043277|22001\n",
      "fetching http://export.arxiv.org/oai2?verb=ListRecords&resumptionToken=1043277|23001\n",
      "Got 503. Retrying after 30 seconds.\n",
      "fetching http://export.arxiv.org/oai2?verb=ListRecords&resumptionToken=1043277|23001\n",
      "fetching http://export.arxiv.org/oai2?verb=ListRecords&resumptionToken=1043277|24001\n",
      "Got 503. Retrying after 30 seconds.\n",
      "fetching http://export.arxiv.org/oai2?verb=ListRecords&resumptionToken=1043277|24001\n",
      "fetching http://export.arxiv.org/oai2?verb=ListRecords&resumptionToken=1043277|25001\n",
      "Got 503. Retrying after 30 seconds.\n",
      "fetching http://export.arxiv.org/oai2?verb=ListRecords&resumptionToken=1043277|25001\n",
      "fetching http://export.arxiv.org/oai2?verb=ListRecords&resumptionToken=1043277|26001\n",
      "Got 503. Retrying after 30 seconds.\n",
      "fetching http://export.arxiv.org/oai2?verb=ListRecords&resumptionToken=1043277|26001\n",
      "fetching http://export.arxiv.org/oai2?verb=ListRecords&resumptionToken=1043277|27001\n",
      "Got 503. Retrying after 30 seconds.\n",
      "fetching http://export.arxiv.org/oai2?verb=ListRecords&resumptionToken=1043277|27001\n",
      "fetching http://export.arxiv.org/oai2?verb=ListRecords&resumptionToken=1043277|28001\n",
      "Got 503. Retrying after 30 seconds.\n",
      "fetching http://export.arxiv.org/oai2?verb=ListRecords&resumptionToken=1043277|28001\n",
      "fetching http://export.arxiv.org/oai2?verb=ListRecords&resumptionToken=1043277|29001\n",
      "Got 503. Retrying after 30 seconds.\n",
      "fetching http://export.arxiv.org/oai2?verb=ListRecords&resumptionToken=1043277|29001\n",
      "fetching http://export.arxiv.org/oai2?verb=ListRecords&resumptionToken=1043277|30001\n",
      "Got 503. Retrying after 30 seconds.\n",
      "fetching http://export.arxiv.org/oai2?verb=ListRecords&resumptionToken=1043277|30001\n",
      "fetching http://export.arxiv.org/oai2?verb=ListRecords&resumptionToken=1043277|31001\n",
      "Got 503. Retrying after 30 seconds.\n",
      "fetching http://export.arxiv.org/oai2?verb=ListRecords&resumptionToken=1043277|31001\n",
      "fetching http://export.arxiv.org/oai2?verb=ListRecords&resumptionToken=1043277|32001\n",
      "Got 503. Retrying after 30 seconds.\n",
      "fetching http://export.arxiv.org/oai2?verb=ListRecords&resumptionToken=1043277|32001\n",
      "fetching http://export.arxiv.org/oai2?verb=ListRecords&resumptionToken=1043277|33001\n",
      "Got 503. Retrying after 30 seconds.\n",
      "fetching http://export.arxiv.org/oai2?verb=ListRecords&resumptionToken=1043277|33001\n",
      "fetching http://export.arxiv.org/oai2?verb=ListRecords&resumptionToken=1043277|34001\n",
      "Got 503. Retrying after 30 seconds.\n",
      "fetching http://export.arxiv.org/oai2?verb=ListRecords&resumptionToken=1043277|34001\n",
      "fetching http://export.arxiv.org/oai2?verb=ListRecords&resumptionToken=1043277|35001\n",
      "Got 503. Retrying after 30 seconds.\n",
      "fetching http://export.arxiv.org/oai2?verb=ListRecords&resumptionToken=1043277|35001\n",
      "fetching http://export.arxiv.org/oai2?verb=ListRecords&resumptionToken=1043277|36001\n",
      "Got 503. Retrying after 30 seconds.\n",
      "fetching http://export.arxiv.org/oai2?verb=ListRecords&resumptionToken=1043277|36001\n",
      "fetching http://export.arxiv.org/oai2?verb=ListRecords&resumptionToken=1043277|37001\n",
      "Got 503. Retrying after 30 seconds.\n",
      "fetching http://export.arxiv.org/oai2?verb=ListRecords&resumptionToken=1043277|37001\n",
      "fetching http://export.arxiv.org/oai2?verb=ListRecords&resumptionToken=1043277|38001\n",
      "Got 503. Retrying after 30 seconds.\n",
      "fetching http://export.arxiv.org/oai2?verb=ListRecords&resumptionToken=1043277|38001\n",
      "fetching http://export.arxiv.org/oai2?verb=ListRecords&resumptionToken=1043277|39001\n",
      "Got 503. Retrying after 30 seconds.\n",
      "fetching http://export.arxiv.org/oai2?verb=ListRecords&resumptionToken=1043277|39001\n",
      "fetching http://export.arxiv.org/oai2?verb=ListRecords&resumptionToken=1043277|40001\n",
      "Got 503. Retrying after 30 seconds.\n",
      "fetching http://export.arxiv.org/oai2?verb=ListRecords&resumptionToken=1043277|40001\n",
      "fetching http://export.arxiv.org/oai2?verb=ListRecords&resumptionToken=1043277|41001\n",
      "Got 503. Retrying after 30 seconds.\n",
      "fetching http://export.arxiv.org/oai2?verb=ListRecords&resumptionToken=1043277|41001\n",
      "fetching http://export.arxiv.org/oai2?verb=ListRecords&resumptionToken=1043277|42001\n",
      "Got 503. Retrying after 30 seconds.\n",
      "fetching http://export.arxiv.org/oai2?verb=ListRecords&resumptionToken=1043277|42001\n",
      "fetching http://export.arxiv.org/oai2?verb=ListRecords&resumptionToken=1043277|43001\n",
      "Got 503. Retrying after 30 seconds.\n",
      "fetching http://export.arxiv.org/oai2?verb=ListRecords&resumptionToken=1043277|43001\n",
      "fetching http://export.arxiv.org/oai2?verb=ListRecords&resumptionToken=1043277|44001\n",
      "Got 503. Retrying after 30 seconds.\n",
      "fetching http://export.arxiv.org/oai2?verb=ListRecords&resumptionToken=1043277|44001\n",
      "fetching http://export.arxiv.org/oai2?verb=ListRecords&resumptionToken=1043277|45001\n",
      "Got 503. Retrying after 30 seconds.\n",
      "fetching http://export.arxiv.org/oai2?verb=ListRecords&resumptionToken=1043277|45001\n",
      "fetching http://export.arxiv.org/oai2?verb=ListRecords&resumptionToken=1043277|46001\n",
      "Got 503. Retrying after 30 seconds.\n",
      "fetching http://export.arxiv.org/oai2?verb=ListRecords&resumptionToken=1043277|46001\n",
      "fetching http://export.arxiv.org/oai2?verb=ListRecords&resumptionToken=1043277|47001\n",
      "Got 503. Retrying after 30 seconds.\n",
      "fetching http://export.arxiv.org/oai2?verb=ListRecords&resumptionToken=1043277|47001\n",
      "fetching http://export.arxiv.org/oai2?verb=ListRecords&resumptionToken=1043277|48001\n",
      "Got 503. Retrying after 30 seconds.\n",
      "fetching http://export.arxiv.org/oai2?verb=ListRecords&resumptionToken=1043277|48001\n",
      "fetching http://export.arxiv.org/oai2?verb=ListRecords&resumptionToken=1043277|49001\n",
      "Got 503. Retrying after 30 seconds.\n",
      "fetching http://export.arxiv.org/oai2?verb=ListRecords&resumptionToken=1043277|49001\n",
      "fetching http://export.arxiv.org/oai2?verb=ListRecords&resumptionToken=1043277|50001\n",
      "Got 503. Retrying after 30 seconds.\n",
      "fetching http://export.arxiv.org/oai2?verb=ListRecords&resumptionToken=1043277|50001\n",
      "fetching http://export.arxiv.org/oai2?verb=ListRecords&resumptionToken=1043277|51001\n",
      "Got 503. Retrying after 30 seconds.\n",
      "fetching http://export.arxiv.org/oai2?verb=ListRecords&resumptionToken=1043277|51001\n",
      "fetching http://export.arxiv.org/oai2?verb=ListRecords&resumptionToken=1043277|52001\n",
      "Got 503. Retrying after 30 seconds.\n",
      "fetching http://export.arxiv.org/oai2?verb=ListRecords&resumptionToken=1043277|52001\n",
      "fetching http://export.arxiv.org/oai2?verb=ListRecords&resumptionToken=1043277|53001\n",
      "Got 503. Retrying after 30 seconds.\n",
      "fetching http://export.arxiv.org/oai2?verb=ListRecords&resumptionToken=1043277|53001\n",
      "fetching http://export.arxiv.org/oai2?verb=ListRecords&resumptionToken=1043277|54001\n",
      "Got 503. Retrying after 30 seconds.\n",
      "fetching http://export.arxiv.org/oai2?verb=ListRecords&resumptionToken=1043277|54001\n",
      "fetching http://export.arxiv.org/oai2?verb=ListRecords&resumptionToken=1043277|55001\n",
      "Got 503. Retrying after 30 seconds.\n",
      "fetching http://export.arxiv.org/oai2?verb=ListRecords&resumptionToken=1043277|55001\n",
      "fetching http://export.arxiv.org/oai2?verb=ListRecords&resumptionToken=1043277|56001\n",
      "Got 503. Retrying after 30 seconds.\n",
      "fetching http://export.arxiv.org/oai2?verb=ListRecords&resumptionToken=1043277|56001\n",
      "fetching http://export.arxiv.org/oai2?verb=ListRecords&resumptionToken=1043277|57001\n",
      "Got 503. Retrying after 30 seconds.\n",
      "fetching http://export.arxiv.org/oai2?verb=ListRecords&resumptionToken=1043277|57001\n",
      "fetching http://export.arxiv.org/oai2?verb=ListRecords&resumptionToken=1043277|58001\n",
      "Got 503. Retrying after 30 seconds.\n",
      "fetching http://export.arxiv.org/oai2?verb=ListRecords&resumptionToken=1043277|58001\n",
      "fetching http://export.arxiv.org/oai2?verb=ListRecords&resumptionToken=1043277|59001\n",
      "Got 503. Retrying after 30 seconds.\n",
      "fetching http://export.arxiv.org/oai2?verb=ListRecords&resumptionToken=1043277|59001\n",
      "fetching http://export.arxiv.org/oai2?verb=ListRecords&resumptionToken=1043277|60001\n",
      "Got 503. Retrying after 30 seconds.\n",
      "fetching http://export.arxiv.org/oai2?verb=ListRecords&resumptionToken=1043277|60001\n",
      "fetching http://export.arxiv.org/oai2?verb=ListRecords&resumptionToken=1043277|61001\n",
      "Got 503. Retrying after 30 seconds.\n",
      "fetching http://export.arxiv.org/oai2?verb=ListRecords&resumptionToken=1043277|61001\n",
      "fetching http://export.arxiv.org/oai2?verb=ListRecords&resumptionToken=1043277|62001\n",
      "Got 503. Retrying after 30 seconds.\n",
      "fetching http://export.arxiv.org/oai2?verb=ListRecords&resumptionToken=1043277|62001\n",
      "fetching http://export.arxiv.org/oai2?verb=ListRecords&resumptionToken=1043277|63001\n",
      "Got 503. Retrying after 30 seconds.\n",
      "fetching http://export.arxiv.org/oai2?verb=ListRecords&resumptionToken=1043277|63001\n",
      "fetching http://export.arxiv.org/oai2?verb=ListRecords&resumptionToken=1043277|64001\n",
      "Got 503. Retrying after 30 seconds.\n",
      "fetching http://export.arxiv.org/oai2?verb=ListRecords&resumptionToken=1043277|64001\n",
      "fetching http://export.arxiv.org/oai2?verb=ListRecords&resumptionToken=1043277|65001\n",
      "Got 503. Retrying after 30 seconds.\n",
      "fetching http://export.arxiv.org/oai2?verb=ListRecords&resumptionToken=1043277|65001\n",
      "fetching http://export.arxiv.org/oai2?verb=ListRecords&resumptionToken=1043277|66001\n",
      "Got 503. Retrying after 30 seconds.\n",
      "fetching http://export.arxiv.org/oai2?verb=ListRecords&resumptionToken=1043277|66001\n"
     ]
    }
   ],
   "source": [
    "OAI = \"{http://www.openarchives.org/OAI/2.0/}\"\n",
    "ARXIV = \"{http://arxiv.org/OAI/arXiv/}\"\n",
    "\n",
    "df = pd.DataFrame(columns=(\"id\", \"created\"))\n",
    "base_url = \"http://export.arxiv.org/oai2?verb=ListRecords&\"\n",
    "url = (base_url +\n",
    "       \"from=2015-01-01&until=2015-12-31&\" +\n",
    "       \"metadataPrefix=arXiv&set=physics:astro-ph\")\n",
    "\n",
    "while True:\n",
    "    print \"fetching\", url\n",
    "    try:\n",
    "        response = urllib2.urlopen(url)\n",
    "\n",
    "    except urllib2.HTTPError, e:\n",
    "        if e.code == 503:\n",
    "            to = 30\n",
    "            print \"Got 503. Retrying after {0:d} seconds.\".format(to)\n",
    "\n",
    "            time.sleep(to)\n",
    "            continue\n",
    "\n",
    "        else:\n",
    "            raise\n",
    "\n",
    "    xml = response.read()\n",
    "\n",
    "    root = ET.fromstring(xml)\n",
    "\n",
    "    for record in root.find(OAI+'ListRecords').findall(OAI+\"record\"):\n",
    "        arxiv_id = record.find(OAI+'header').find(OAI+'identifier')\n",
    "        meta = record.find(OAI+'metadata')\n",
    "        info = meta.find(ARXIV+\"arXiv\")\n",
    "        created = info.find(ARXIV+\"created\").text\n",
    "        created = datetime.datetime.strptime(created, \"%Y-%m-%d\")\n",
    "        \n",
    "        contents = {\n",
    "                    'id': info.find(ARXIV+\"id\").text,\n",
    "                    'created': created,\n",
    "                    }\n",
    "\n",
    "        df = df.append(contents, ignore_index=True)\n",
    "\n",
    "    token = root.find(OAI+'ListRecords').find(OAI+\"resumptionToken\")\n",
    "    if token is None or token.text is None:\n",
    "        break\n",
    "\n",
    "    else:\n",
    "        url = base_url + \"resumptionToken=%s\"%(token.text)\n"
   ]
  },
  {
   "cell_type": "code",
   "execution_count": 127,
   "metadata": {
    "collapsed": false
   },
   "outputs": [],
   "source": [
    "df = df[df['created'].dt.year == 2015]"
   ]
  },
  {
   "cell_type": "code",
   "execution_count": 88,
   "metadata": {
    "collapsed": false
   },
   "outputs": [],
   "source": [
    "save = pd.HDFStore(\"/Users/harshilkamdar/a-year-of-astronomy-arxiv.h5\")\n",
    "save.close()"
   ]
  },
  {
   "cell_type": "code",
   "execution_count": 5,
   "metadata": {
    "collapsed": false
   },
   "outputs": [
    {
     "ename": "TypeError",
     "evalue": "read_hdf() takes exactly 2 arguments (1 given)",
     "output_type": "error",
     "traceback": [
      "\u001b[0;31m---------------------------------------------------------------------------\u001b[0m",
      "\u001b[0;31mTypeError\u001b[0m                                 Traceback (most recent call last)",
      "\u001b[0;32m<ipython-input-5-db4f4bb7f09c>\u001b[0m in \u001b[0;36m<module>\u001b[0;34m()\u001b[0m\n\u001b[0;32m----> 1\u001b[0;31m \u001b[0mdf\u001b[0m \u001b[0;34m=\u001b[0m \u001b[0mpd\u001b[0m\u001b[0;34m.\u001b[0m\u001b[0mread_hdf\u001b[0m\u001b[0;34m(\u001b[0m\u001b[0;34m'/Users/harshilkamdar/a-year-of-astronomy-arxiv.h5'\u001b[0m\u001b[0;34m)\u001b[0m\u001b[0;34m\u001b[0m\u001b[0m\n\u001b[0m",
      "\u001b[0;31mTypeError\u001b[0m: read_hdf() takes exactly 2 arguments (1 given)"
     ]
    }
   ],
   "source": [
    "df = pd.read_hdf('/Users/harshilkamdar/a-year-of-astronomy-arxiv.h5')"
   ]
  },
  {
   "cell_type": "code",
   "execution_count": 121,
   "metadata": {
    "collapsed": false
   },
   "outputs": [],
   "source": [
    "\n",
    "data = {\n",
    "    \"id\": list(df['id'].values),\n",
    "    \"date\": list(df['created'].values),\n",
    "    \"locations\": []\n",
    "}"
   ]
  },
  {
   "cell_type": "code",
   "execution_count": 137,
   "metadata": {
    "collapsed": false
   },
   "outputs": [
    {
     "ename": "APIResponseError",
     "evalue": "u'Rate limit was exceeded'",
     "output_type": "error",
     "traceback": [
      "\u001b[0;31m---------------------------------------------------------------------------\u001b[0m",
      "\u001b[0;31mAPIResponseError\u001b[0m                          Traceback (most recent call last)",
      "\u001b[0;32m<ipython-input-137-88d2ff434718>\u001b[0m in \u001b[0;36m<module>\u001b[0;34m()\u001b[0m\n\u001b[1;32m      1\u001b[0m \u001b[0;32mfor\u001b[0m \u001b[0mi\u001b[0m\u001b[0;34m,\u001b[0m \u001b[0marxiv_id\u001b[0m \u001b[0;32min\u001b[0m \u001b[0mdf\u001b[0m\u001b[0;34m[\u001b[0m\u001b[0;34m'id'\u001b[0m\u001b[0;34m]\u001b[0m\u001b[0;34m.\u001b[0m\u001b[0miteritems\u001b[0m\u001b[0;34m(\u001b[0m\u001b[0;34m)\u001b[0m\u001b[0;34m:\u001b[0m\u001b[0;34m\u001b[0m\u001b[0m\n\u001b[0;32m----> 2\u001b[0;31m     \u001b[0mquery\u001b[0m \u001b[0;34m=\u001b[0m \u001b[0mlist\u001b[0m\u001b[0;34m(\u001b[0m\u001b[0mads\u001b[0m\u001b[0;34m.\u001b[0m\u001b[0mSearchQuery\u001b[0m\u001b[0;34m(\u001b[0m\u001b[0mq\u001b[0m\u001b[0;34m=\u001b[0m\u001b[0;34m'arXiv: %s'\u001b[0m \u001b[0;34m%\u001b[0m \u001b[0mdf\u001b[0m\u001b[0;34m[\u001b[0m\u001b[0;34m'id'\u001b[0m\u001b[0;34m]\u001b[0m\u001b[0;34m[\u001b[0m\u001b[0mi\u001b[0m\u001b[0;34m]\u001b[0m\u001b[0;34m)\u001b[0m\u001b[0;34m)\u001b[0m\u001b[0;34m\u001b[0m\u001b[0m\n\u001b[0m\u001b[1;32m      3\u001b[0m     \u001b[0mdata\u001b[0m\u001b[0;34m[\u001b[0m\u001b[0;34m\"locations\"\u001b[0m\u001b[0;34m]\u001b[0m\u001b[0;34m.\u001b[0m\u001b[0mappend\u001b[0m\u001b[0;34m(\u001b[0m\u001b[0mquery\u001b[0m\u001b[0;34m[\u001b[0m\u001b[0;36m0\u001b[0m\u001b[0;34m]\u001b[0m\u001b[0;34m.\u001b[0m\u001b[0maff\u001b[0m\u001b[0;34m)\u001b[0m\u001b[0;34m\u001b[0m\u001b[0m\n",
      "\u001b[0;32m//anaconda/lib/python2.7/site-packages/ads/search.pyc\u001b[0m in \u001b[0;36mnext\u001b[0;34m(self)\u001b[0m\n\u001b[1;32m    375\u001b[0m \u001b[0;34m\u001b[0m\u001b[0m\n\u001b[1;32m    376\u001b[0m     \u001b[0;32mdef\u001b[0m \u001b[0mnext\u001b[0m\u001b[0;34m(\u001b[0m\u001b[0mself\u001b[0m\u001b[0;34m)\u001b[0m\u001b[0;34m:\u001b[0m\u001b[0;34m\u001b[0m\u001b[0m\n\u001b[0;32m--> 377\u001b[0;31m         \u001b[0;32mreturn\u001b[0m \u001b[0mself\u001b[0m\u001b[0;34m.\u001b[0m\u001b[0m__next__\u001b[0m\u001b[0;34m(\u001b[0m\u001b[0;34m)\u001b[0m\u001b[0;34m\u001b[0m\u001b[0m\n\u001b[0m\u001b[1;32m    378\u001b[0m \u001b[0;34m\u001b[0m\u001b[0m\n\u001b[1;32m    379\u001b[0m     \u001b[0;32mdef\u001b[0m \u001b[0m__next__\u001b[0m\u001b[0;34m(\u001b[0m\u001b[0mself\u001b[0m\u001b[0;34m)\u001b[0m\u001b[0;34m:\u001b[0m\u001b[0;34m\u001b[0m\u001b[0m\n",
      "\u001b[0;32m//anaconda/lib/python2.7/site-packages/ads/search.pyc\u001b[0m in \u001b[0;36m__next__\u001b[0;34m(self)\u001b[0m\n\u001b[1;32m    384\u001b[0m         \u001b[0;31m# explicitly\u001b[0m\u001b[0;34m\u001b[0m\u001b[0;34m\u001b[0m\u001b[0m\n\u001b[1;32m    385\u001b[0m         \u001b[0;32mif\u001b[0m \u001b[0mself\u001b[0m\u001b[0;34m.\u001b[0m\u001b[0mresponse\u001b[0m \u001b[0;32mis\u001b[0m \u001b[0mNone\u001b[0m\u001b[0;34m:\u001b[0m\u001b[0;34m\u001b[0m\u001b[0m\n\u001b[0;32m--> 386\u001b[0;31m             \u001b[0mself\u001b[0m\u001b[0;34m.\u001b[0m\u001b[0mexecute\u001b[0m\u001b[0;34m(\u001b[0m\u001b[0;34m)\u001b[0m\u001b[0;34m\u001b[0m\u001b[0m\n\u001b[0m\u001b[1;32m    387\u001b[0m \u001b[0;34m\u001b[0m\u001b[0m\n\u001b[1;32m    388\u001b[0m         \u001b[0;32mtry\u001b[0m\u001b[0;34m:\u001b[0m\u001b[0;34m\u001b[0m\u001b[0m\n",
      "\u001b[0;32m//anaconda/lib/python2.7/site-packages/ads/search.pyc\u001b[0m in \u001b[0;36mexecute\u001b[0;34m(self)\u001b[0m\n\u001b[1;32m    416\u001b[0m         \"\"\"\n\u001b[1;32m    417\u001b[0m         self.response = SolrResponse.load_http_response(\n\u001b[0;32m--> 418\u001b[0;31m             \u001b[0mself\u001b[0m\u001b[0;34m.\u001b[0m\u001b[0msession\u001b[0m\u001b[0;34m.\u001b[0m\u001b[0mget\u001b[0m\u001b[0;34m(\u001b[0m\u001b[0mself\u001b[0m\u001b[0;34m.\u001b[0m\u001b[0mHTTP_ENDPOINT\u001b[0m\u001b[0;34m,\u001b[0m \u001b[0mparams\u001b[0m\u001b[0;34m=\u001b[0m\u001b[0mself\u001b[0m\u001b[0;34m.\u001b[0m\u001b[0mquery\u001b[0m\u001b[0;34m)\u001b[0m\u001b[0;34m\u001b[0m\u001b[0m\n\u001b[0m\u001b[1;32m    419\u001b[0m         )\n\u001b[1;32m    420\u001b[0m         \u001b[0mself\u001b[0m\u001b[0;34m.\u001b[0m\u001b[0m_articles\u001b[0m\u001b[0;34m.\u001b[0m\u001b[0mextend\u001b[0m\u001b[0;34m(\u001b[0m\u001b[0mself\u001b[0m\u001b[0;34m.\u001b[0m\u001b[0mresponse\u001b[0m\u001b[0;34m.\u001b[0m\u001b[0marticles\u001b[0m\u001b[0;34m)\u001b[0m\u001b[0;34m\u001b[0m\u001b[0m\n",
      "\u001b[0;32m//anaconda/lib/python2.7/site-packages/ads/base.pyc\u001b[0m in \u001b[0;36mload_http_response\u001b[0;34m(cls, HTTPResponse)\u001b[0m\n\u001b[1;32m     37\u001b[0m         \"\"\"\n\u001b[1;32m     38\u001b[0m         \u001b[0;32mif\u001b[0m \u001b[0;32mnot\u001b[0m \u001b[0mHTTPResponse\u001b[0m\u001b[0;34m.\u001b[0m\u001b[0mok\u001b[0m\u001b[0;34m:\u001b[0m\u001b[0;34m\u001b[0m\u001b[0m\n\u001b[0;32m---> 39\u001b[0;31m             \u001b[0;32mraise\u001b[0m \u001b[0mAPIResponseError\u001b[0m\u001b[0;34m(\u001b[0m\u001b[0mHTTPResponse\u001b[0m\u001b[0;34m.\u001b[0m\u001b[0mtext\u001b[0m\u001b[0;34m)\u001b[0m\u001b[0;34m\u001b[0m\u001b[0m\n\u001b[0m\u001b[1;32m     40\u001b[0m         \u001b[0mc\u001b[0m \u001b[0;34m=\u001b[0m \u001b[0mcls\u001b[0m\u001b[0;34m(\u001b[0m\u001b[0mHTTPResponse\u001b[0m\u001b[0;34m.\u001b[0m\u001b[0mtext\u001b[0m\u001b[0;34m)\u001b[0m\u001b[0;34m\u001b[0m\u001b[0m\n\u001b[1;32m     41\u001b[0m         \u001b[0mc\u001b[0m\u001b[0;34m.\u001b[0m\u001b[0mresponse\u001b[0m \u001b[0;34m=\u001b[0m \u001b[0mHTTPResponse\u001b[0m\u001b[0;34m\u001b[0m\u001b[0m\n",
      "\u001b[0;31mAPIResponseError\u001b[0m: u'Rate limit was exceeded'"
     ]
    }
   ],
   "source": [
    "for i, arxiv_id in df['id'].iteritems():\n",
    "    query = list(ads.SearchQuery(q='arXiv: %s' % df['id'][i]))\n",
    "    data[\"locations\"].append(query[0].aff)"
   ]
  },
  {
   "cell_type": "code",
   "execution_count": 138,
   "metadata": {
    "collapsed": false
   },
   "outputs": [
    {
     "name": "stdout",
     "output_type": "stream",
     "text": [
      "2464\n"
     ]
    }
   ],
   "source": [
    "print(len(data[\"locations\"]))"
   ]
  },
  {
   "cell_type": "code",
   "execution_count": null,
   "metadata": {
    "collapsed": true
   },
   "outputs": [],
   "source": []
  }
 ],
 "metadata": {
  "kernelspec": {
   "display_name": "Python 2",
   "language": "python",
   "name": "python2"
  },
  "language_info": {
   "codemirror_mode": {
    "name": "ipython",
    "version": 2
   },
   "file_extension": ".py",
   "mimetype": "text/x-python",
   "name": "python",
   "nbconvert_exporter": "python",
   "pygments_lexer": "ipython2",
   "version": "2.7.11"
  }
 },
 "nbformat": 4,
 "nbformat_minor": 0
}
