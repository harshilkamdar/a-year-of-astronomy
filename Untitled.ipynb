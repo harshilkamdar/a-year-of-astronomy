{
 "cells": [
  {
   "cell_type": "code",
   "execution_count": 20,
   "metadata": {
    "collapsed": true
   },
   "outputs": [],
   "source": [
    "import ads\n",
    "from bs4 import BeautifulSoup"
   ]
  },
  {
   "cell_type": "code",
   "execution_count": 37,
   "metadata": {
    "collapsed": false
   },
   "outputs": [],
   "source": [
    "paper = list(ads.SearchQuery(q='year:2015 property:eprint_openaccess database:astronomy'))"
   ]
  },
  {
   "cell_type": "code",
   "execution_count": 35,
   "metadata": {
    "collapsed": false
   },
   "outputs": [
    {
     "name": "stdout",
     "output_type": "stream",
     "text": [
      "[u'-', u'-', u'-']\n",
      "[u'-', u'-', u'-', u'-']\n",
      "[u'-', u'-', u'-']\n",
      "[u'-', u'-', u'-', u'-', u'-', u'-', u'-', u'-', u'-', u'-', u'-', u'-', u'-', u'-', u'-', u'-', u'-', u'-', u'-', u'-', u'-', u'-', u'-', u'-', u'-', u'-', u'-', u'-', u'-']\n",
      "[u'-', u'-', u'-', u'-', u'-', u'-', u'-', u'-', u'-', u'-', u'-', u'-', u'-', u'-', u'-', u'-']\n",
      "[u'-']\n",
      "[u'-', u'-', u'-', u'-', u'-', u'-', u'-']\n",
      "[u'-', u'-']\n",
      "[u'-', u'-', u'-', u'-']\n",
      "[u'-', u'-', u'-', u'-', u'-', u'-']\n",
      "[u'-', u'-', u'-', u'-', u'-']\n",
      "[u'-', u'-', u'-', u'-', u'-', u'-', u'-', u'-', u'-', u'-', u'-', u'-', u'-', u'-', u'-', u'-', u'-', u'-', u'-', u'-', u'-', u'-', u'-', u'-', u'-', u'-', u'-', u'-', u'-', u'-', u'-', u'-', u'-', u'-', u'-', u'-', u'-', u'-', u'-', u'-', u'-', u'-', u'-', u'-', u'-', u'-', u'-', u'-', u'-', u'-', u'-', u'-', u'-', u'-', u'-', u'-', u'-', u'-', u'-', u'-', u'-', u'-', u'-', u'-', u'-', u'-', u'-', u'-', u'-', u'-', u'-', u'-', u'-', u'-', u'-', u'-', u'-', u'-', u'-', u'-', u'-', u'-', u'-', u'-', u'-', u'-', u'-', u'-', u'-', u'-', u'-', u'-', u'-', u'-', u'-', u'-', u'-', u'-']\n",
      "[u'-', u'-', u'-', u'-', u'-', u'-', u'-', u'-', u'-', u'-', u'-', u'-', u'-', u'-', u'-', u'-', u'-', u'-', u'-', u'-', u'-', u'-', u'-', u'-', u'-', u'-', u'-', u'-', u'-', u'-', u'-', u'-', u'-', u'-', u'-', u'-', u'-', u'-', u'-', u'-', u'-', u'-', u'-', u'-', u'-', u'-', u'-', u'-', u'-', u'-', u'-', u'-', u'-', u'-', u'-', u'-', u'-', u'-', u'-', u'-', u'-', u'-', u'-', u'-', u'-', u'-', u'-', u'-', u'-', u'-', u'-', u'-', u'-', u'-', u'-', u'-', u'-', u'-']\n",
      "[u'-', u'-', u'-']\n",
      "[u'-', u'-']\n",
      "[u'-']\n",
      "[u'-', u'-', u'-']\n",
      "[u'-', u'-', u'-', u'-', u'-']\n",
      "[u'-', u'-', u'-', u'-', u'-', u'-', u'-', u'-', u'-', u'-', u'-', u'-', u'-', u'-', u'-', u'-', u'-', u'-', u'-', u'-', u'-', u'-']\n",
      "[u'-', u'-']\n",
      "[u'-', u'-', u'-']\n",
      "[u'-', u'-', u'-', u'-', u'-']\n",
      "[u'-', u'-', u'-', u'-']\n",
      "[u'-', u'-', u'-', u'-', u'-']\n",
      "[u'-', u'-', u'-', u'-', u'-', u'-', u'-']\n",
      "[u'-', u'-']\n",
      "[u'-', u'-', u'-', u'-', u'-']\n",
      "[u'-']\n",
      "[u'-', u'-']\n",
      "[u'-', u'-']\n",
      "[u'-', u'-', u'-']\n",
      "[u'-', u'-', u'-']\n",
      "[u'-', u'-']\n",
      "[u'-', u'-', u'-', u'-', u'-', u'-', u'-', u'-']\n",
      "[u'-', u'-']\n",
      "[u'-', u'-', u'-', u'-', u'-']\n",
      "[u'-', u'-', u'-']\n",
      "[u'-', u'-', u'-', u'-', u'-', u'-', u'-', u'-', u'-', u'-', u'-', u'-', u'-', u'-', u'-', u'-', u'-', u'-', u'-', u'-', u'-', u'-', u'-', u'-', u'-', u'-', u'-', u'-', u'-', u'-', u'-', u'-', u'-', u'-', u'-', u'-', u'-', u'-', u'-', u'-', u'-', u'-', u'-', u'-', u'-', u'-', u'-', u'-', u'-', u'-', u'-', u'-', u'-', u'-', u'-', u'-', u'-', u'-', u'-', u'-', u'-', u'-', u'-', u'-', u'-', u'-', u'-', u'-']\n",
      "[u'-', u'-']\n",
      "[u'-', u'-', u'-']\n",
      "[u'-', u'-']\n",
      "[u'-', u'-', u'-', u'-', u'-', u'-', u'-', u'-', u'-', u'-', u'-', u'-', u'-', u'-', u'-', u'-', u'-']\n",
      "[u'-', u'-', u'-', u'-']\n",
      "[u'-', u'-']\n",
      "[u'-']\n",
      "[u'-', u'-']\n",
      "[u'-', u'-', u'-', u'-', u'-', u'-']\n",
      "[u'-', u'-', u'-', u'-', u'-']\n",
      "[u'-', u'-', u'-', u'-', u'-', u'-']\n",
      "[u'-', u'-', u'-', u'-', u'-', u'-', u'-', u'-', u'-', u'-', u'-', u'-', u'-', u'-']\n"
     ]
    }
   ],
   "source": [
    "for i, j in enumerate(paper):\n",
    "    print(paper[i].aff)"
   ]
  },
  {
   "cell_type": "code",
   "execution_count": 24,
   "metadata": {
    "collapsed": false
   },
   "outputs": [
    {
     "name": "stdout",
     "output_type": "stream",
     "text": [
      "-\n"
     ]
    }
   ],
   "source": [
    "print str(paper[0].aff[0])"
   ]
  },
  {
   "cell_type": "code",
   "execution_count": 25,
   "metadata": {
    "collapsed": true
   },
   "outputs": [],
   "source": [
    "s='arxiv:1601.01315 OR arxiv:1601.01316'"
   ]
  },
  {
   "cell_type": "code",
   "execution_count": 26,
   "metadata": {
    "collapsed": false
   },
   "outputs": [
    {
     "name": "stdout",
     "output_type": "stream",
     "text": [
      "36\n"
     ]
    }
   ],
   "source": [
    "print(len(s))"
   ]
  },
  {
   "cell_type": "code",
   "execution_count": 41,
   "metadata": {
    "collapsed": false
   },
   "outputs": [
    {
     "name": "stdout",
     "output_type": "stream",
     "text": [
      "[u'1508.04830', u'2015arXiv150804830T']\n"
     ]
    }
   ],
   "source": [
    "print paper[1].identifier"
   ]
  },
  {
   "cell_type": "code",
   "execution_count": null,
   "metadata": {
    "collapsed": true
   },
   "outputs": [],
   "source": []
  }
 ],
 "metadata": {
  "kernelspec": {
   "display_name": "Python 2",
   "language": "python",
   "name": "python2"
  },
  "language_info": {
   "codemirror_mode": {
    "name": "ipython",
    "version": 2
   },
   "file_extension": ".py",
   "mimetype": "text/x-python",
   "name": "python",
   "nbconvert_exporter": "python",
   "pygments_lexer": "ipython2",
   "version": "2.7.11"
  }
 },
 "nbformat": 4,
 "nbformat_minor": 0
}
